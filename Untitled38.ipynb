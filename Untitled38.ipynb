{
  "nbformat": 4,
  "nbformat_minor": 0,
  "metadata": {
    "colab": {
      "provenance": [],
      "authorship_tag": "ABX9TyNRFouQWjS4aLsPwAOc3yiI",
      "include_colab_link": true
    },
    "kernelspec": {
      "name": "python3",
      "display_name": "Python 3"
    },
    "language_info": {
      "name": "python"
    }
  },
  "cells": [
    {
      "cell_type": "markdown",
      "metadata": {
        "id": "view-in-github",
        "colab_type": "text"
      },
      "source": [
        "<a href=\"https://colab.research.google.com/github/IAMLATI/Firstproj/blob/main/Untitled38.ipynb\" target=\"_parent\"><img src=\"https://colab.research.google.com/assets/colab-badge.svg\" alt=\"Open In Colab\"/></a>"
      ]
    },
    {
      "cell_type": "code",
      "execution_count": 1,
      "metadata": {
        "id": "BVyEDMQD9F-8"
      },
      "outputs": [],
      "source": [
        "import torch\n",
        "import torch.nn as nn\n",
        "import numpy as np\n",
        "from sklearn import datasets\n",
        "import matplotlib.pyplot as plt"
      ]
    },
    {
      "cell_type": "code",
      "source": [
        "X_numpy, Y_numpy = datasets.make_regression(n_samples=100,n_features=1,noise=20,random_state=1)"
      ],
      "metadata": {
        "id": "sz3W2gvr8eNo"
      },
      "execution_count": 2,
      "outputs": []
    },
    {
      "cell_type": "code",
      "source": [
        "X=torch.from_numpy(X_numpy.astype(np.float32))\n",
        "Y=torch.from_numpy(Y_numpy.astype(np.float32))\n"
      ],
      "metadata": {
        "id": "xZAx_ZMv9WU-"
      },
      "execution_count": 3,
      "outputs": []
    },
    {
      "cell_type": "code",
      "source": [
        "Y.shape"
      ],
      "metadata": {
        "colab": {
          "base_uri": "https://localhost:8080/"
        },
        "id": "RPGL6kxA-4Xl",
        "outputId": "43b861cd-a4b0-4dd0-89e5-b1d17d97e39e"
      },
      "execution_count": 4,
      "outputs": [
        {
          "output_type": "execute_result",
          "data": {
            "text/plain": [
              "torch.Size([100])"
            ]
          },
          "metadata": {},
          "execution_count": 4
        }
      ]
    },
    {
      "cell_type": "code",
      "source": [
        "Y=Y.view(Y.shape[0],1)"
      ],
      "metadata": {
        "id": "olpIKQsq-tQh"
      },
      "execution_count": 5,
      "outputs": []
    },
    {
      "cell_type": "code",
      "source": [
        "Y.shape"
      ],
      "metadata": {
        "colab": {
          "base_uri": "https://localhost:8080/"
        },
        "id": "3rNxt-CE_Ah7",
        "outputId": "07aee0ad-0b69-4f42-eb8f-20856d83a817"
      },
      "execution_count": 6,
      "outputs": [
        {
          "output_type": "execute_result",
          "data": {
            "text/plain": [
              "torch.Size([100, 1])"
            ]
          },
          "metadata": {},
          "execution_count": 6
        }
      ]
    },
    {
      "cell_type": "code",
      "source": [
        "X.shape"
      ],
      "metadata": {
        "colab": {
          "base_uri": "https://localhost:8080/"
        },
        "id": "e0fXOHcc_N_1",
        "outputId": "d011ab27-8e1b-453d-d95d-10eeb2fa68f1"
      },
      "execution_count": 7,
      "outputs": [
        {
          "output_type": "execute_result",
          "data": {
            "text/plain": [
              "torch.Size([100, 1])"
            ]
          },
          "metadata": {},
          "execution_count": 7
        }
      ]
    },
    {
      "cell_type": "code",
      "source": [
        "n_samples,n_features= X.shape"
      ],
      "metadata": {
        "id": "P_4WUzKG_UHr"
      },
      "execution_count": 8,
      "outputs": []
    },
    {
      "cell_type": "code",
      "source": [
        "#model\n",
        "input_size=n_features\n",
        "output_size=1\n",
        "model=nn.Linear(input_size,output_size)"
      ],
      "metadata": {
        "id": "qqa0iIsLA7qA"
      },
      "execution_count": 9,
      "outputs": []
    },
    {
      "cell_type": "code",
      "source": [
        "#loss and optimizer\n",
        "learning_rate=0.03\n",
        "criterion=nn.MSELoss()\n",
        "optimizer=torch.optim.SGD(model.parameters(), lr=learning_rate)"
      ],
      "metadata": {
        "id": "RreKhpFXBJMl"
      },
      "execution_count": 10,
      "outputs": []
    },
    {
      "cell_type": "code",
      "source": [
        "num_epochs=1000\n",
        "for epoch in range(num_epochs):\n",
        "  y_predicted=model(X)\n",
        "\n",
        "  loss=criterion(y_predicted,Y)\n",
        "\n",
        "  loss.backward()\n",
        "\n",
        "  optimizer.step()\n",
        "\n",
        "  optimizer.zero_grad()\n",
        "\n",
        "  if (epoch+1) % 10==0:\n",
        "    print(f'epoch:{epoch+1}, loss={loss.item():.4f}')"
      ],
      "metadata": {
        "colab": {
          "base_uri": "https://localhost:8080/"
        },
        "id": "suSVezM8CJ_d",
        "outputId": "13896bbb-3476-4dce-e3ac-c48b28e7382a"
      },
      "execution_count": 11,
      "outputs": [
        {
          "output_type": "stream",
          "name": "stdout",
          "text": [
            "epoch:10, loss=2595.5935\n",
            "epoch:20, loss=1187.7251\n",
            "epoch:30, loss=657.8030\n",
            "epoch:40, loss=456.8706\n",
            "epoch:50, loss=380.2516\n",
            "epoch:60, loss=350.9106\n",
            "epoch:70, loss=339.6382\n",
            "epoch:80, loss=335.2973\n",
            "epoch:90, loss=333.6226\n",
            "epoch:100, loss=332.9757\n",
            "epoch:110, loss=332.7256\n",
            "epoch:120, loss=332.6287\n",
            "epoch:130, loss=332.5913\n",
            "epoch:140, loss=332.5768\n",
            "epoch:150, loss=332.5711\n",
            "epoch:160, loss=332.5689\n",
            "epoch:170, loss=332.5681\n",
            "epoch:180, loss=332.5678\n",
            "epoch:190, loss=332.5677\n",
            "epoch:200, loss=332.5676\n",
            "epoch:210, loss=332.5676\n",
            "epoch:220, loss=332.5675\n",
            "epoch:230, loss=332.5676\n",
            "epoch:240, loss=332.5676\n",
            "epoch:250, loss=332.5676\n",
            "epoch:260, loss=332.5676\n",
            "epoch:270, loss=332.5676\n",
            "epoch:280, loss=332.5675\n",
            "epoch:290, loss=332.5675\n",
            "epoch:300, loss=332.5676\n",
            "epoch:310, loss=332.5675\n",
            "epoch:320, loss=332.5675\n",
            "epoch:330, loss=332.5675\n",
            "epoch:340, loss=332.5675\n",
            "epoch:350, loss=332.5675\n",
            "epoch:360, loss=332.5675\n",
            "epoch:370, loss=332.5675\n",
            "epoch:380, loss=332.5675\n",
            "epoch:390, loss=332.5675\n",
            "epoch:400, loss=332.5675\n",
            "epoch:410, loss=332.5675\n",
            "epoch:420, loss=332.5675\n",
            "epoch:430, loss=332.5675\n",
            "epoch:440, loss=332.5675\n",
            "epoch:450, loss=332.5675\n",
            "epoch:460, loss=332.5675\n",
            "epoch:470, loss=332.5675\n",
            "epoch:480, loss=332.5675\n",
            "epoch:490, loss=332.5675\n",
            "epoch:500, loss=332.5675\n",
            "epoch:510, loss=332.5675\n",
            "epoch:520, loss=332.5675\n",
            "epoch:530, loss=332.5675\n",
            "epoch:540, loss=332.5675\n",
            "epoch:550, loss=332.5675\n",
            "epoch:560, loss=332.5675\n",
            "epoch:570, loss=332.5675\n",
            "epoch:580, loss=332.5675\n",
            "epoch:590, loss=332.5675\n",
            "epoch:600, loss=332.5675\n",
            "epoch:610, loss=332.5675\n",
            "epoch:620, loss=332.5675\n",
            "epoch:630, loss=332.5675\n",
            "epoch:640, loss=332.5675\n",
            "epoch:650, loss=332.5675\n",
            "epoch:660, loss=332.5675\n",
            "epoch:670, loss=332.5675\n",
            "epoch:680, loss=332.5675\n",
            "epoch:690, loss=332.5675\n",
            "epoch:700, loss=332.5675\n",
            "epoch:710, loss=332.5675\n",
            "epoch:720, loss=332.5675\n",
            "epoch:730, loss=332.5675\n",
            "epoch:740, loss=332.5675\n",
            "epoch:750, loss=332.5675\n",
            "epoch:760, loss=332.5675\n",
            "epoch:770, loss=332.5675\n",
            "epoch:780, loss=332.5675\n",
            "epoch:790, loss=332.5675\n",
            "epoch:800, loss=332.5675\n",
            "epoch:810, loss=332.5675\n",
            "epoch:820, loss=332.5675\n",
            "epoch:830, loss=332.5675\n",
            "epoch:840, loss=332.5675\n",
            "epoch:850, loss=332.5675\n",
            "epoch:860, loss=332.5675\n",
            "epoch:870, loss=332.5675\n",
            "epoch:880, loss=332.5675\n",
            "epoch:890, loss=332.5675\n",
            "epoch:900, loss=332.5675\n",
            "epoch:910, loss=332.5675\n",
            "epoch:920, loss=332.5675\n",
            "epoch:930, loss=332.5675\n",
            "epoch:940, loss=332.5675\n",
            "epoch:950, loss=332.5675\n",
            "epoch:960, loss=332.5675\n",
            "epoch:970, loss=332.5675\n",
            "epoch:980, loss=332.5675\n",
            "epoch:990, loss=332.5675\n",
            "epoch:1000, loss=332.5675\n"
          ]
        }
      ]
    },
    {
      "cell_type": "code",
      "source": [
        "predicted=model(X).detach().numpy()\n",
        "plt.plot(X_numpy,Y_numpy, 'ro')\n",
        "plt.plot(X_numpy,predicted,'b')\n",
        "plt.show()\n"
      ],
      "metadata": {
        "colab": {
          "base_uri": "https://localhost:8080/",
          "height": 432
        },
        "id": "1fDqJAflDfg1",
        "outputId": "43a61d53-3ac9-48c0-a56d-60ebb15f849b"
      },
      "execution_count": 12,
      "outputs": [
        {
          "output_type": "display_data",
          "data": {
            "text/plain": [
              "<Figure size 640x480 with 1 Axes>"
            ],
            "image/png": "[encoded data removed]"
          },
          "metadata": {}
        }
      ]
    }
  ]
}