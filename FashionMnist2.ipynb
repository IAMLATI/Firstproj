{
  "nbformat": 4,
  "nbformat_minor": 0,
  "metadata": {
    "colab": {
      "provenance": [],
      "authorship_tag": "ABX9TyN/xAUvVNdZesmmI8wvQazI",
      "include_colab_link": true
    },
    "kernelspec": {
      "name": "python3",
      "display_name": "Python 3"
    },
    "language_info": {
      "name": "python"
    }
  },
  "cells": [
    {
      "cell_type": "markdown",
      "metadata": {
        "id": "view-in-github",
        "colab_type": "text"
      },
      "source": [
        "<a href=\"https://colab.research.google.com/github/IAMLATI/Firstproj/blob/main/FashionMnist2.ipynb\" target=\"_parent\"><img src=\"https://colab.research.google.com/assets/colab-badge.svg\" alt=\"Open In Colab\"/></a>"
      ]
    },
    {
      "cell_type": "code",
      "execution_count": 1,
      "metadata": {
        "id": "7GkUqKZFPekP"
      },
      "outputs": [],
      "source": [
        "import torch\n",
        "import torchvision\n",
        "import torch.nn as nn\n",
        "import numpy as np\n",
        "import torch.nn.functional as F\n",
        "import matplotlib.pyplot as plt\n",
        "import torchvision.transforms as transform\n",
        "from torchvision import transforms\n",
        "from torch.utils.data import Dataset, DataLoader\n",
        "import torchvision.datasets as dset"
      ]
    },
    {
      "cell_type": "code",
      "source": [
        "# config device\n",
        "device=torch.device('cuda' if torch.cuda.is_available() else 'cpu')\n"
      ],
      "metadata": {
        "id": "iq1R1iNQPfPW"
      },
      "execution_count": 2,
      "outputs": []
    },
    {
      "cell_type": "code",
      "source": [
        "#hyperparameters\n",
        "\"\"\"input_size=256\n",
        "hidden_size=100\n",
        "num_classes=10\"\"\"\n",
        "num_epochs=4\n",
        "batch_size=256\n",
        "learning_rate=0.03"
      ],
      "metadata": {
        "id": "nudVh5iIPizc"
      },
      "execution_count": 3,
      "outputs": []
    },
    {
      "cell_type": "code",
      "source": [
        "transform= transforms.Compose(\n",
        "    [transforms.ToTensor(),\n",
        "     \n",
        "     transforms.Normalize((0.5), (0.5))])\n",
        "train_dataset=dset.FashionMNIST(root='./data', train=True, transform=transform, download=True)\n",
        "\n",
        "test_dataset=dset.FashionMNIST(root='./data', train=False, transform=transform, download=True )\n",
        "\n",
        "train_loader=DataLoader(train_dataset, batch_size=batch_size, shuffle=True)\n",
        "\n",
        "test_loader=DataLoader(test_dataset, batch_size=batch_size, shuffle=False)\n",
        "\n",
        "classes=('T-shirt/top','Trouser', 'Pullover','Dress','Coat','Sandal','Shirt','Sneaker','Bag','Ankle boot')\n"
      ],
      "metadata": {
        "id": "cJOTijmRPlJm"
      },
      "execution_count": 4,
      "outputs": []
    },
    {
      "cell_type": "code",
      "source": [
        "train_dataset.targets"
      ],
      "metadata": {
        "colab": {
          "base_uri": "https://localhost:8080/"
        },
        "id": "PAdaOeL6T0uO",
        "outputId": "e9ac3394-4b17-4b60-c977-afe1ebc26fc4"
      },
      "execution_count": 5,
      "outputs": [
        {
          "output_type": "execute_result",
          "data": {
            "text/plain": [
              "tensor([9, 0, 0,  ..., 3, 0, 5])"
            ]
          },
          "metadata": {},
          "execution_count": 5
        }
      ]
    },
    {
      "cell_type": "code",
      "source": [
        "examples=iter(train_loader)\n",
        "samples, labels=next(examples)\n",
        "print(samples.shape,labels.shape)"
      ],
      "metadata": {
        "colab": {
          "base_uri": "https://localhost:8080/"
        },
        "id": "BuXVxITVU4vf",
        "outputId": "79fda6fc-4132-4d87-dffd-5eec6cea0366"
      },
      "execution_count": 6,
      "outputs": [
        {
          "output_type": "stream",
          "name": "stdout",
          "text": [
            "torch.Size([256, 1, 28, 28]) torch.Size([256])\n"
          ]
        }
      ]
    },
    {
      "cell_type": "code",
      "source": [
        "len(examples)"
      ],
      "metadata": {
        "colab": {
          "base_uri": "https://localhost:8080/"
        },
        "id": "PWSd_6hqtte0",
        "outputId": "ea94a141-b6f7-428b-f231-defde0b8a8a1"
      },
      "execution_count": 7,
      "outputs": [
        {
          "output_type": "execute_result",
          "data": {
            "text/plain": [
              "235"
            ]
          },
          "metadata": {},
          "execution_count": 7
        }
      ]
    },
    {
      "cell_type": "code",
      "source": [
        "testaa=next(iter(train_dataset))"
      ],
      "metadata": {
        "id": "hfy6S-wwstmo"
      },
      "execution_count": 8,
      "outputs": []
    },
    {
      "cell_type": "code",
      "source": [
        "len(testaa)"
      ],
      "metadata": {
        "colab": {
          "base_uri": "https://localhost:8080/"
        },
        "id": "mrbMQrD6s4Mt",
        "outputId": "cb479fa9-3f75-4eea-a29d-c81cbebe9402"
      },
      "execution_count": 9,
      "outputs": [
        {
          "output_type": "execute_result",
          "data": {
            "text/plain": [
              "2"
            ]
          },
          "metadata": {},
          "execution_count": 9
        }
      ]
    },
    {
      "cell_type": "code",
      "source": [
        "print(len(train_loader))"
      ],
      "metadata": {
        "colab": {
          "base_uri": "https://localhost:8080/"
        },
        "id": "VNJWosEFWfOl",
        "outputId": "d5797903-d052-43f4-fe4c-3af104e3406d"
      },
      "execution_count": 10,
      "outputs": [
        {
          "output_type": "stream",
          "name": "stdout",
          "text": [
            "235\n"
          ]
        }
      ]
    },
    {
      "cell_type": "code",
      "source": [
        "len(train_dataset)"
      ],
      "metadata": {
        "colab": {
          "base_uri": "https://localhost:8080/"
        },
        "id": "_uDepidkXtsW",
        "outputId": "34dc0ff2-b01a-4e4a-cbfb-4a43a7b7dc8f"
      },
      "execution_count": 11,
      "outputs": [
        {
          "output_type": "execute_result",
          "data": {
            "text/plain": [
              "60000"
            ]
          },
          "metadata": {},
          "execution_count": 11
        }
      ]
    },
    {
      "cell_type": "code",
      "source": [
        "for i in range(10):\n",
        "  plt.subplot(5,5,i+1)\n",
        "  plt.imshow(samples[i][0], cmap='gray')"
      ],
      "metadata": {
        "colab": {
          "base_uri": "https://localhost:8080/",
          "height": 205
        },
        "id": "PMtiobAIX9eN",
        "outputId": "e12ddeca-1b90-4f04-b737-fe6ad26dc4da"
      },
      "execution_count": 12,
      "outputs": [
        {
          "output_type": "display_data",
          "data": {
            "text/plain": [
              "<Figure size 640x480 with 10 Axes>"
            ],
            "image/png": "[encoded data removed]"
          },
          "metadata": {}
        }
      ]
    },
    {
      "cell_type": "code",
      "source": [
        "\"\"\"def imshow(img):\n",
        "    img=img/2 + 0.5\n",
        "    npimg=img.numpy()\n",
        "    plt.imshow(np.transpose(npimg,(1,2,0)))\n",
        "    plt.show()\n",
        "dataiter=iter(train_loader)\n",
        "images, labels=next(dataiter)\n",
        "imshow(torchvision.utils.make_grid(images))\"\"\""
      ],
      "metadata": {
        "colab": {
          "base_uri": "https://localhost:8080/",
          "height": 53
        },
        "id": "hVOhEm1kYcY_",
        "outputId": "9bd07b85-0878-49f0-ab57-cd2ac2e328bc"
      },
      "execution_count": 13,
      "outputs": [
        {
          "output_type": "execute_result",
          "data": {
            "text/plain": [
              "'def imshow(img):\\n    img=img/2 + 0.5\\n    npimg=img.numpy()\\n    plt.imshow(np.transpose(npimg,(1,2,0)))\\n    plt.show()\\ndataiter=iter(train_loader)\\nimages, labels=next(dataiter)\\nimshow(torchvision.utils.make_grid(images))'"
            ],
            "application/vnd.google.colaboratory.intrinsic+json": {
              "type": "string"
            }
          },
          "metadata": {},
          "execution_count": 13
        }
      ]
    },
    {
      "cell_type": "code",
      "source": [
        "\"\"\"class ConvNet(nn.Module):\n",
        "  def __init__(self):\n",
        "    super(ConvNet, self).__init__()\n",
        "    self.conv1=nn.Conv2d(1,6,5)\n",
        "    self.pool=nn.MaxPool2d(2,2)\n",
        "    self.conv2=nn.Conv2d(6,16,5)\n",
        "    self.fc1=nn.Linear(16*4*4,120)\n",
        "    self.fc2=nn.Linear(120,84)\n",
        "    self.fc3=nn.Linear(84,10)\n",
        "\n",
        "  def forward(self,x):\n",
        "    x=self.pool(F.relu(self.conv1(x)))\n",
        "    x=self.pool(F.relu(self.conv2(x)))\n",
        "    x=x.view(-1,16*4*4)\n",
        "    x=F.relu(self.fc1(x))\n",
        "    x=F.relu(self.fc2(x))\n",
        "    x=self.fc3(x)\n",
        "\n",
        "    return x\n",
        "\n",
        "model=ConvNet().to(device)\n",
        "\n",
        "criterion=nn.CrossEntropyLoss()\n",
        "optimizer=torch.optim.Adam(model.parameters(), lr=learning_rate)\"\"\"\n",
        "\n",
        "\"\"\"conv1=nn.Conv2d(3,6,5)\n",
        "pool=nn.MaxPool2d(2,2)\n",
        "conv2=nn.Conv2d(6,16,5)\n",
        "print(images.shape)\n",
        "x=conv1(images)\n",
        "x=pool(x)\n",
        "x=conv2(x)\n",
        "x=pool(x)\"\"\"\n"
      ],
      "metadata": {
        "colab": {
          "base_uri": "https://localhost:8080/",
          "height": 35
        },
        "id": "iBoXXKvTZBTB",
        "outputId": "8bf14e64-ee91-42c5-e489-a419d54ee175"
      },
      "execution_count": 14,
      "outputs": [
        {
          "output_type": "execute_result",
          "data": {
            "text/plain": [
              "'conv1=nn.Conv2d(3,6,5)\\npool=nn.MaxPool2d(2,2)\\nconv2=nn.Conv2d(6,16,5)\\nprint(images.shape)\\nx=conv1(images)\\nx=pool(x)\\nx=conv2(x)\\nx=pool(x)'"
            ],
            "application/vnd.google.colaboratory.intrinsic+json": {
              "type": "string"
            }
          },
          "metadata": {},
          "execution_count": 14
        }
      ]
    },
    {
      "cell_type": "code",
      "source": [
        "class ConvNet(nn.Module):\n",
        "    def __init__(self):\n",
        "        super(ConvNet, self).__init__()\n",
        "        self.conv1 = nn.Conv2d(1, 6, 5)\n",
        "        self.pool = nn.MaxPool2d(2, 2)\n",
        "        self.conv2 = nn.Conv2d(6, 16, 5)\n",
        "        self.fc1 = nn.Linear(16 * 4 * 4, 120)\n",
        "        self.fc2 = nn.Linear(120, 84)\n",
        "        self.fc3 = nn.Linear(84, 10)\n",
        "\n",
        "    def forward(self, x):\n",
        "        # -> n, 3, 32, 32\n",
        "        x = self.pool(F.relu(self.conv1(x)))  # -> n, 6, 14, 14\n",
        "        x = self.pool(F.relu(self.conv2(x)))  # -> n, 16, 5, 5\n",
        "        x = x.view(-1, 16 * 4 * 4)            # -> n, 400\n",
        "        x = F.relu(self.fc1(x))               # -> n, 120\n",
        "        x = F.relu(self.fc2(x))               # -> n, 84\n",
        "        x = self.fc3(x)                       # -> n, 10\n",
        "        return x\n",
        "\n",
        "\n",
        "model = ConvNet().to(device)\n",
        "\n",
        "criterion = nn.CrossEntropyLoss()\n",
        "optimizer = torch.optim.SGD(model.parameters(), lr=learning_rate)"
      ],
      "metadata": {
        "id": "1laYfYTxOmqe"
      },
      "execution_count": 15,
      "outputs": []
    },
    {
      "cell_type": "code",
      "source": [
        "n_total_steps = len(train_loader)\n",
        "for epoch in range(num_epochs):\n",
        "    for i, (images, labels) in enumerate(train_loader):\n",
        "        # origin shape: [4, 3, 32, 32] = 4, 3, 1024\n",
        "        # input_layer: 3 input channels, 6 output channels, 5 kernel size\n",
        "        images = images.to(device)\n",
        "        labels = labels.to(device)\n",
        "\n",
        "        # Forward pass\n",
        "        outputs = model(images)\n",
        "        loss = criterion(outputs, labels)\n",
        "\n",
        "        # Backward and optimize\n",
        "        optimizer.zero_grad()\n",
        "        loss.backward()\n",
        "        optimizer.step()\n",
        "\n",
        "        if (i+1) % 2000 == 0:\n",
        "            print (f'Epoch [{epoch+1}/{num_epochs}], Step [{i+1}/{n_total_steps}], Loss: {loss.item():.4f}')\n",
        "\n",
        "print('Finished Training')\n",
        "PATH = './cnn.pth'\n",
        "torch.save(model.state_dict(), PATH)"
      ],
      "metadata": {
        "colab": {
          "base_uri": "https://localhost:8080/"
        },
        "id": "AswsIQc6Xv98",
        "outputId": "d80e9e30-c43a-403c-d844-feac1d2516ee"
      },
      "execution_count": 16,
      "outputs": [
        {
          "output_type": "stream",
          "name": "stdout",
          "text": [
            "Finished Training\n"
          ]
        }
      ]
    },
    {
      "cell_type": "code",
      "source": [
        "\"\"\"#training_loop\n",
        "n_total_steps= len(train_loader)\n",
        "for epoch in range (num_epochs):\n",
        "  for i, (images, labels) in enumerate(train_loader):\n",
        "\n",
        "      \n",
        "    images=images.to(device)\n",
        "    labels=labels.to(device)\n",
        "\n",
        "    outputs=model(images)\n",
        "    loss=criterion(outputs, labels)\n",
        "\n",
        "    optimizer.zero_grad()\n",
        "    loss.backward()\n",
        "    optimizer.step()\n",
        "\n",
        "\n",
        "    if (i+1)%2000==0:\n",
        "      print(f'epoch{epoch+1}/{num_epochs}, step{i+1}/{n_total_steps}, loss{loss.item():.4f}')\"\"\""
      ],
      "metadata": {
        "id": "gTErSnBFZGmQ",
        "colab": {
          "base_uri": "https://localhost:8080/",
          "height": 70
        },
        "outputId": "66d1cac0-7b76-4933-afb9-a7a15828a335"
      },
      "execution_count": 17,
      "outputs": [
        {
          "output_type": "execute_result",
          "data": {
            "text/plain": [
              "\"#training_loop\\nn_total_steps= len(train_loader)\\nfor epoch in range (num_epochs):\\n  for i, (images, labels) in enumerate(train_loader):\\n\\n      \\n    images=images.to(device)\\n    labels=labels.to(device)\\n\\n    outputs=model(images)\\n    loss=criterion(outputs, labels)\\n\\n    optimizer.zero_grad()\\n    loss.backward()\\n    optimizer.step()\\n\\n\\n    if (i+1)%2000==0:\\n      print(f'epoch{epoch+1}/{num_epochs}, step{i+1}/{n_total_steps}, loss{loss.item():.4f}')\""
            ],
            "application/vnd.google.colaboratory.intrinsic+json": {
              "type": "string"
            }
          },
          "metadata": {},
          "execution_count": 17
        }
      ]
    },
    {
      "cell_type": "code",
      "source": [
        "print('Finished Training')\n",
        "PATH = './cnn.pth'\n",
        "torch.save(model.state_dict(), PATH)"
      ],
      "metadata": {
        "colab": {
          "base_uri": "https://localhost:8080/"
        },
        "id": "nVDXT2xlO0Vi",
        "outputId": "ab4ba3fa-f6ee-4baa-9ff5-89d4d91470e6"
      },
      "execution_count": 18,
      "outputs": [
        {
          "output_type": "stream",
          "name": "stdout",
          "text": [
            "Finished Training\n"
          ]
        }
      ]
    },
    {
      "cell_type": "code",
      "source": [
        "#test_loop\n",
        "with torch.no_grad():\n",
        "  n_correct=0\n",
        "  n_samples=0\n",
        "  n_class_correct=[0 for i in range(10)]\n",
        "  n_class_samples=[0 for i in range(10)]\n",
        "\n",
        "  for images, labels in test_loader:\n",
        "    images=images.to(device)\n",
        "    labels=labels.to(device)\n",
        "\n",
        "    outputs=model(images)\n",
        "\n",
        "    _, predicted=torch.max(outputs,1)\n",
        "    n_samples+=labels.size(0)\n",
        "    n_correct+=(predicted==labels).sum().item()\n",
        "\n",
        "    for i in range(len(labels)):\n",
        "      label = labels[i]\n",
        "      pred = predicted[i]\n",
        "      if (label == pred):\n",
        "        n_class_correct[label] += 1\n",
        "      n_class_samples[label] += 1\n",
        "\n",
        "  acc=100.0* n_correct/n_samples\n",
        "  print(f'Accuracy of the network:{acc}')\n",
        "\n",
        "  for i in range(10):\n",
        "    acc = 100.0 * n_class_correct[i] / n_class_samples[i]\n",
        "    print(f'Accuracy of {classes[i]}: {acc} %')\n",
        "\n"
      ],
      "metadata": {
        "colab": {
          "base_uri": "https://localhost:8080/"
        },
        "id": "WSL27EnROusL",
        "outputId": "5aff380c-022a-4ec5-aebe-348019e30492"
      },
      "execution_count": 19,
      "outputs": [
        {
          "output_type": "stream",
          "name": "stdout",
          "text": [
            "Accuracy of the network:71.45\n",
            "Accuracy of T-shirt/top: 79.5 %\n",
            "Accuracy of Trouser: 95.7 %\n",
            "Accuracy of Pullover: 67.4 %\n",
            "Accuracy of Dress: 50.9 %\n",
            "Accuracy of Coat: 80.6 %\n",
            "Accuracy of Sandal: 75.2 %\n",
            "Accuracy of Shirt: 14.0 %\n",
            "Accuracy of Sneaker: 57.3 %\n",
            "Accuracy of Bag: 96.2 %\n",
            "Accuracy of Ankle boot: 97.7 %\n"
          ]
        }
      ]
    }
  ]
}