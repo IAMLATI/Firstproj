{
  "nbformat": 4,
  "nbformat_minor": 0,
  "metadata": {
    "colab": {
      "provenance": [],
      "authorship_tag": "ABX9TyNU+lMfbbVxJGy3I5woK048",
      "include_colab_link": true
    },
    "kernelspec": {
      "name": "python3",
      "display_name": "Python 3"
    },
    "language_info": {
      "name": "python"
    }
  },
  "cells": [
    {
      "cell_type": "markdown",
      "metadata": {
        "id": "view-in-github",
        "colab_type": "text"
      },
      "source": [
        "<a href=\"https://colab.research.google.com/github/IAMLATI/Firstproj/blob/main/Dataset%20and%20Dataloader.ipynb\" target=\"_parent\"><img src=\"https://colab.research.google.com/assets/colab-badge.svg\" alt=\"Open In Colab\"/></a>"
      ]
    },
    {
      "cell_type": "code",
      "execution_count": 1,
      "metadata": {
        "id": "UPSc4ZywcqaK"
      },
      "outputs": [],
      "source": [
        "import torch\n",
        "import torch.nn as nn\n",
        "import math\n",
        "import matplotlib.pyplot as plt\n",
        "import torchvision\n",
        "import numpy as np\n",
        "from torch.utils.data import Dataset, DataLoader"
      ]
    },
    {
      "cell_type": "code",
      "source": [
        "class WineDataset(Dataset):\n",
        "\n",
        "  def __init__(self):\n",
        "    xy=np.loadtxt('/content/wine.csv', delimiter=\",\",dtype=np.float32, skiprows=1)\n",
        "    self.X= torch.from_numpy(xy[:,1:]) #the target is on the first column, hence starting from the second\n",
        "    self.Y=torch.from_numpy(xy[:,[0]])\n",
        "    self.n_samples=xy.shape[0]\n",
        "\n",
        "  def __getitem__(self, index):\n",
        "    return self.X[index], self.Y[index]\n",
        "\n",
        "\n",
        "  def __len__(self):\n",
        "    return self.n_samples\n",
        "\n",
        "dataset= WineDataset()\n",
        "\n",
        "\n",
        "     "
      ],
      "metadata": {
        "id": "Ek1gAFjVd-aU"
      },
      "execution_count": 2,
      "outputs": []
    },
    {
      "cell_type": "code",
      "source": [
        "first_data= dataset[0]\n",
        "features, labels= first_data\n",
        "print(features,labels)"
      ],
      "metadata": {
        "colab": {
          "base_uri": "https://localhost:8080/"
        },
        "id": "bvEnS3Sqh-rs",
        "outputId": "a3f307f6-679c-45dc-a4a1-56a06c69f576"
      },
      "execution_count": 4,
      "outputs": [
        {
          "output_type": "stream",
          "name": "stdout",
          "text": [
            "tensor([1.4230e+01, 1.7100e+00, 2.4300e+00, 1.5600e+01, 1.2700e+02, 2.8000e+00,\n",
            "        3.0600e+00, 2.8000e-01, 2.2900e+00, 5.6400e+00, 1.0400e+00, 3.9200e+00,\n",
            "        1.0650e+03]) tensor([1.])\n"
          ]
        }
      ]
    },
    {
      "cell_type": "code",
      "source": [
        "dataloader=DataLoader(dataset=dataset, batch_size=4, shuffle=True, num_workers=2)\n",
        "datatiter=iter(dataloader)\n",
        "data=next(datatiter)\n",
        "features, labels= data\n",
        "print(features,labels)"
      ],
      "metadata": {
        "colab": {
          "base_uri": "https://localhost:8080/"
        },
        "id": "L0laTnCtjjN-",
        "outputId": "b714bf0d-ca77-4452-e851-a5f087043230"
      },
      "execution_count": 10,
      "outputs": [
        {
          "output_type": "stream",
          "name": "stdout",
          "text": [
            "tensor([[1.3640e+01, 3.1000e+00, 2.5600e+00, 1.5200e+01, 1.1600e+02, 2.7000e+00,\n",
            "         3.0300e+00, 1.7000e-01, 1.6600e+00, 5.1000e+00, 9.6000e-01, 3.3600e+00,\n",
            "         8.4500e+02],\n",
            "        [1.2290e+01, 1.6100e+00, 2.2100e+00, 2.0400e+01, 1.0300e+02, 1.1000e+00,\n",
            "         1.0200e+00, 3.7000e-01, 1.4600e+00, 3.0500e+00, 9.0600e-01, 1.8200e+00,\n",
            "         8.7000e+02],\n",
            "        [1.2770e+01, 2.3900e+00, 2.2800e+00, 1.9500e+01, 8.6000e+01, 1.3900e+00,\n",
            "         5.1000e-01, 4.8000e-01, 6.4000e-01, 9.9000e+00, 5.7000e-01, 1.6300e+00,\n",
            "         4.7000e+02],\n",
            "        [1.2930e+01, 3.8000e+00, 2.6500e+00, 1.8600e+01, 1.0200e+02, 2.4100e+00,\n",
            "         2.4100e+00, 2.5000e-01, 1.9800e+00, 4.5000e+00, 1.0300e+00, 3.5200e+00,\n",
            "         7.7000e+02]]) tensor([[1.],\n",
            "        [2.],\n",
            "        [3.],\n",
            "        [1.]])\n"
          ]
        }
      ]
    },
    {
      "cell_type": "code",
      "source": [
        "num_epochs=2\n",
        "total_samples=len(dataset)\n",
        "n_iterations= math.ceil(total_samples/4)\n",
        "print(total_samples,n_iterations )"
      ],
      "metadata": {
        "colab": {
          "base_uri": "https://localhost:8080/"
        },
        "id": "NUv_PuGOol0K",
        "outputId": "f1d47c27-cf24-42e0-a3ff-55e18da5b903"
      },
      "execution_count": 11,
      "outputs": [
        {
          "output_type": "stream",
          "name": "stdout",
          "text": [
            "178 45\n"
          ]
        }
      ]
    },
    {
      "cell_type": "code",
      "source": [
        "for epoch in range(num_epochs):\n",
        "  for i, (inputs, labels) in enumerate(dataloader):\n",
        "\n",
        "    if(i+1) % 5 ==0:\n",
        "      print(f'epoch{epoch+1}/{num_epochs}, step{i+1}/{n_iterations}, inputs {inputs.shape}')"
      ],
      "metadata": {
        "colab": {
          "base_uri": "https://localhost:8080/"
        },
        "id": "ApngSDSwpKwc",
        "outputId": "fda16d80-f7ab-44a3-9a18-1633dc8c7d2e"
      },
      "execution_count": 12,
      "outputs": [
        {
          "output_type": "stream",
          "name": "stdout",
          "text": [
            "epoch1/2, step5/45, inputs torch.Size([4, 13])\n",
            "epoch1/2, step10/45, inputs torch.Size([4, 13])\n",
            "epoch1/2, step15/45, inputs torch.Size([4, 13])\n",
            "epoch1/2, step20/45, inputs torch.Size([4, 13])\n",
            "epoch1/2, step25/45, inputs torch.Size([4, 13])\n",
            "epoch1/2, step30/45, inputs torch.Size([4, 13])\n",
            "epoch1/2, step35/45, inputs torch.Size([4, 13])\n",
            "epoch1/2, step40/45, inputs torch.Size([4, 13])\n",
            "epoch1/2, step45/45, inputs torch.Size([2, 13])\n",
            "epoch2/2, step5/45, inputs torch.Size([4, 13])\n",
            "epoch2/2, step10/45, inputs torch.Size([4, 13])\n",
            "epoch2/2, step15/45, inputs torch.Size([4, 13])\n",
            "epoch2/2, step20/45, inputs torch.Size([4, 13])\n",
            "epoch2/2, step25/45, inputs torch.Size([4, 13])\n",
            "epoch2/2, step30/45, inputs torch.Size([4, 13])\n",
            "epoch2/2, step35/45, inputs torch.Size([4, 13])\n",
            "epoch2/2, step40/45, inputs torch.Size([4, 13])\n",
            "epoch2/2, step45/45, inputs torch.Size([2, 13])\n"
          ]
        }
      ]
    }
  ]
}