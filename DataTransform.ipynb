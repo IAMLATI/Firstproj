{
  "nbformat": 4,
  "nbformat_minor": 0,
  "metadata": {
    "colab": {
      "provenance": [],
      "authorship_tag": "ABX9TyN6a5UkTpjWi3QccfGI9J/a",
      "include_colab_link": true
    },
    "kernelspec": {
      "name": "python3",
      "display_name": "Python 3"
    },
    "language_info": {
      "name": "python"
    }
  },
  "cells": [
    {
      "cell_type": "markdown",
      "metadata": {
        "id": "view-in-github",
        "colab_type": "text"
      },
      "source": [
        "<a href=\"https://colab.research.google.com/github/IAMLATI/Firstproj/blob/main/DataTransform.ipynb\" target=\"_parent\"><img src=\"https://colab.research.google.com/assets/colab-badge.svg\" alt=\"Open In Colab\"/></a>"
      ]
    },
    {
      "cell_type": "code",
      "execution_count": 1,
      "metadata": {
        "id": "wU1K4oWCriS7"
      },
      "outputs": [],
      "source": [
        "import torch\n",
        "import torchvision\n",
        "import torch.nn as nn\n",
        "from torch.utils.data import Dataset, DataLoader\n",
        "import math\n",
        "import matplotlib.pyplot as plt \n",
        "import numpy as np"
      ]
    },
    {
      "cell_type": "code",
      "source": [
        "class WineDataset(Dataset):\n",
        "\n",
        "  def __init__(self, transform=None):\n",
        "    xy=np.loadtxt('/content/wine.csv', delimiter=',',dtype=np.float32, skiprows=1)\n",
        "    self.n_samples=xy.shape[0]\n",
        "\n",
        "    self.X= xy[:,1:] #the target is on the first column, hence starting from the second\n",
        "    self.Y=xy[:,[0]]\n",
        "\n",
        "    \n",
        "    self.transform= transform\n",
        "\n",
        "  def __getitem__(self, index):\n",
        "    sample= self.X[index], self.Y[index]\n",
        "\n",
        "    if self.transform:\n",
        "      sample=self.transform(sample)\n",
        "\n",
        "      return sample\n",
        "\n",
        "\n",
        "  def __len__(self):\n",
        "    return self.n_samples\n",
        "\n",
        "class ToTensor:\n",
        "\n",
        "  def __call__(self, sample):\n",
        "    inputs, target= sample\n",
        "    return torch.from_numpy(inputs), torch.from_numpy(target)\n",
        "\n",
        "\n",
        "\n",
        "class MultiTransform:\n",
        "  def __init__(self, factor):\n",
        "    self.factor= factor\n",
        "\n",
        "  def __call__(self, sample):\n",
        "    inputs, target= sample\n",
        "    inputs*=self.factor\n",
        "    return inputs, target\n",
        "\n",
        "\n",
        "\n",
        "\n",
        "\n",
        "\n",
        "     "
      ],
      "metadata": {
        "id": "9spX8pNZ0vgh"
      },
      "execution_count": 2,
      "outputs": []
    },
    {
      "cell_type": "code",
      "source": [
        "dataset= WineDataset(transform=None)\n",
        "\n",
        "first_data=dataset[0]\n",
        "\n",
        "features, label= first_data\n",
        "print(features)\n",
        "\n",
        "print(type(features),type(label))"
      ],
      "metadata": {
        "colab": {
          "base_uri": "https://localhost:8080/",
          "height": 235
        },
        "id": "4Io1UePt_ce3",
        "outputId": "82ea2bb3-dfe7-43e0-f988-7ddef2e6ac60"
      },
      "execution_count": 3,
      "outputs": [
        {
          "output_type": "error",
          "ename": "TypeError",
          "evalue": "ignored",
          "traceback": [
            "\u001b[0;31m---------------------------------------------------------------------------\u001b[0m",
            "\u001b[0;31mTypeError\u001b[0m                                 Traceback (most recent call last)",
            "\u001b[0;32m<ipython-input-3-4cbd337ca676>\u001b[0m in \u001b[0;36m<cell line: 5>\u001b[0;34m()\u001b[0m\n\u001b[1;32m      3\u001b[0m \u001b[0mfirst_data\u001b[0m\u001b[0;34m=\u001b[0m\u001b[0mdataset\u001b[0m\u001b[0;34m[\u001b[0m\u001b[0;36m0\u001b[0m\u001b[0;34m]\u001b[0m\u001b[0;34m\u001b[0m\u001b[0;34m\u001b[0m\u001b[0m\n\u001b[1;32m      4\u001b[0m \u001b[0;34m\u001b[0m\u001b[0m\n\u001b[0;32m----> 5\u001b[0;31m \u001b[0mfeatures\u001b[0m\u001b[0;34m,\u001b[0m \u001b[0mlabel\u001b[0m\u001b[0;34m=\u001b[0m \u001b[0mfirst_data\u001b[0m\u001b[0;34m\u001b[0m\u001b[0;34m\u001b[0m\u001b[0m\n\u001b[0m\u001b[1;32m      6\u001b[0m \u001b[0mprint\u001b[0m\u001b[0;34m(\u001b[0m\u001b[0mfeatures\u001b[0m\u001b[0;34m)\u001b[0m\u001b[0;34m\u001b[0m\u001b[0;34m\u001b[0m\u001b[0m\n\u001b[1;32m      7\u001b[0m \u001b[0;34m\u001b[0m\u001b[0m\n",
            "\u001b[0;31mTypeError\u001b[0m: cannot unpack non-iterable NoneType object"
          ]
        }
      ]
    },
    {
      "cell_type": "code",
      "source": [
        "dataset= WineDataset(transform=ToTensor())\n",
        "\n",
        "first_data=dataset[0]\n",
        "\n",
        "features, label= first_data\n",
        "print(features)\n",
        "\n",
        "print(type(features),type(label))"
      ],
      "metadata": {
        "id": "5qqIzQEf4jfT"
      },
      "execution_count": null,
      "outputs": []
    },
    {
      "cell_type": "code",
      "source": [
        "composed= torchvision.transforms.Compose([ToTensor(), MultiTransform(2)])\n",
        "dataset=WineDataset(transform=composed)\n",
        "first_data=dataset[0]\n",
        "\n",
        "features, label= first_data\n",
        "print(features)\n",
        "print(type(features),type(label))"
      ],
      "metadata": {
        "id": "BiGjHSc3_BhH"
      },
      "execution_count": null,
      "outputs": []
    }
  ]
}